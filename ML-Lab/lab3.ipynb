{
 "cells": [
  {
   "cell_type": "code",
   "execution_count": 2,
   "metadata": {},
   "outputs": [],
   "source": [
    "import math\n",
    "import csv\n"
   ]
  },
  {
   "cell_type": "code",
   "execution_count": 3,
   "metadata": {},
   "outputs": [],
   "source": [
    "def load_csv(filename): \n",
    "    lines=csv.reader(open(filename,\"r\"))\n",
    "    dataset = list(lines) \n",
    "    headers = dataset.pop(0) \n",
    "    return dataset,headers\n",
    "\n",
    "class Node:\n",
    "    def __init__ (self,attribute): \n",
    "        self.attribute=attribute \n",
    "        self.children=[] \n",
    "        self.answer=\"\""
   ]
  },
  {
   "cell_type": "code",
   "execution_count": 4,
   "metadata": {},
   "outputs": [],
   "source": [
    "def subtables(data,col,delete):\n",
    "    dic={}\n",
    "    coldata=[row[col] for row in data] \n",
    "    attr=list(set(coldata))\n",
    "\n",
    "    counts=[0]*len(attr) \n",
    "    r=len(data) \n",
    "    c=len(data[0])\n",
    "    for x in range(len(attr)): \n",
    "        for y in range(r):\n",
    "            if data[y][col]==attr[x]: \n",
    "                counts[x]+=1\n",
    "    for x in range(len(attr)):\n",
    "        dic[attr[x]]=[[0 for i in range(c)] for j in range(counts[x])]\n",
    "        pos=0\n",
    "        for y in range(r):\n",
    "            if data[y][col]==attr[x]: \n",
    "                if delete:\n",
    "                    del data[y][col] \n",
    "                dic[attr[x]][pos]=data[y] \n",
    "                pos+=1\n",
    "    return attr,dic"
   ]
  },
  {
   "cell_type": "code",
   "execution_count": 5,
   "metadata": {},
   "outputs": [],
   "source": [
    "def entropy(S): \n",
    "    attr=list(set(S))\n",
    "    if len(attr)==1: \n",
    "        return 0\n",
    "\n",
    "    counts=[0,0]\n",
    "    for i in range(2):\n",
    "        counts[i]=sum([1 for x in S if attr[i]==x])/(len(S)*1.0)\n",
    "\n",
    "    sums=0\n",
    "    for cnt in counts:\n",
    "        sums+=-1*cnt*math.log(cnt,2) \n",
    "    return sums"
   ]
  },
  {
   "cell_type": "code",
   "execution_count": 6,
   "metadata": {},
   "outputs": [],
   "source": [
    "def compute_gain(data,col): \n",
    "    attr,dic = subtables(data,col,delete=False)\n",
    "\n",
    "    total_size=len(data) \n",
    "    entropies=[0]*len(attr) \n",
    "    ratio=[0]*len(attr)\n",
    "\n",
    "    total_entropy=entropy([row[-1] for row in data]) \n",
    "    for x in range(len(attr)):\n",
    "        ratio[x]=len(dic[attr[x]])/(total_size*1.0) \n",
    "        entropies[x]=entropy([row[-1] for row in dic[attr[x]]])\n",
    "        total_entropy-=ratio[x]*entropies[x] \n",
    "    return total_entropy"
   ]
  },
  {
   "cell_type": "code",
   "execution_count": 7,
   "metadata": {},
   "outputs": [],
   "source": [
    "def build_tree(data,features):\n",
    "    lastcol=[row[-1] for row in data] \n",
    "    if(len(set(lastcol)))==1:\n",
    "        node=Node(\"\") \n",
    "        node.answer=lastcol[0] \n",
    "        return node\n",
    "\n",
    "    n=len(data[0])-1 \n",
    "    gains=[0]*n\n",
    "    for col in range(n): \n",
    "        gains[col]=compute_gain(data,col)\n",
    "    split=gains.index(max(gains)) \n",
    "    node=Node(features[split])\n",
    "    fea = features[:split]+features[split+1:]\n",
    "    attr,dic=subtables(data,split,delete=True)\n",
    " \n",
    "    for x in range(len(attr)): \n",
    "        child=build_tree(dic[attr[x]],fea) \n",
    "        node.children.append((attr[x],child))\n",
    "    return node"
   ]
  },
  {
   "cell_type": "code",
   "execution_count": 8,
   "metadata": {},
   "outputs": [],
   "source": [
    "def print_tree(node,level): \n",
    "    if node.answer!=\"\":\n",
    "        print(\"  \"*level,node.answer) \n",
    "        return\n",
    "\n",
    "    print(\"  \"*level,node.attribute) \n",
    "    for value,n in node.children:\n",
    "        print(\"  \"*(level+1),value) \n",
    "        print_tree(n,level+2)"
   ]
  },
  {
   "cell_type": "code",
   "execution_count": 9,
   "metadata": {},
   "outputs": [],
   "source": [
    "def classify(node,x_test,features): \n",
    "    if node.answer!=\"\":\n",
    "        print(node.answer) \n",
    "        return\n",
    "    pos=features.index(node.attribute) \n",
    "    for value, n in node.children:\n",
    "        if x_test[pos]==value: \n",
    "            classify(n,x_test,features)"
   ]
  },
  {
   "cell_type": "code",
   "execution_count": 10,
   "metadata": {},
   "outputs": [
    {
     "name": "stdout",
     "output_type": "stream",
     "text": [
      "The decision tree for the dataset using ID3 algorithm is\n",
      " Outlook\n",
      "   sunny\n",
      "     Humidity\n",
      "       normal\n",
      "         yes\n",
      "       high\n",
      "         no\n",
      "   rain\n",
      "     Wind\n",
      "       strong\n",
      "         no\n",
      "       weak\n",
      "         yes\n",
      "   overcast\n",
      "     yes\n"
     ]
    },
    {
     "ename": "FileNotFoundError",
     "evalue": "[Errno 2] No such file or directory: 'id3_test_1.csv'",
     "output_type": "error",
     "traceback": [
      "\u001b[1;31m---------------------------------------------------------------------------\u001b[0m",
      "\u001b[1;31mFileNotFoundError\u001b[0m                         Traceback (most recent call last)",
      "Cell \u001b[1;32mIn[10], line 7\u001b[0m\n\u001b[0;32m      5\u001b[0m \u001b[38;5;28mprint\u001b[39m(\u001b[38;5;124m\"\u001b[39m\u001b[38;5;124mThe decision tree for the dataset using ID3 algorithm is\u001b[39m\u001b[38;5;124m\"\u001b[39m)\n\u001b[0;32m      6\u001b[0m print_tree(node1,\u001b[38;5;241m0\u001b[39m) \n\u001b[1;32m----> 7\u001b[0m testdata,features\u001b[38;5;241m=\u001b[39m\u001b[43mload_csv\u001b[49m\u001b[43m(\u001b[49m\u001b[38;5;124;43m\"\u001b[39;49m\u001b[38;5;124;43mid3_test_1.csv\u001b[39;49m\u001b[38;5;124;43m\"\u001b[39;49m\u001b[43m)\u001b[49m \n\u001b[0;32m      8\u001b[0m \u001b[38;5;28;01mfor\u001b[39;00m xtest \u001b[38;5;129;01min\u001b[39;00m testdata:\n\u001b[0;32m      9\u001b[0m     \u001b[38;5;28mprint\u001b[39m(\u001b[38;5;124m\"\u001b[39m\u001b[38;5;124mThe test instance:\u001b[39m\u001b[38;5;124m\"\u001b[39m,xtest)\n",
      "Cell \u001b[1;32mIn[3], line 2\u001b[0m, in \u001b[0;36mload_csv\u001b[1;34m(filename)\u001b[0m\n\u001b[0;32m      1\u001b[0m \u001b[38;5;28;01mdef\u001b[39;00m \u001b[38;5;21mload_csv\u001b[39m(filename): \n\u001b[1;32m----> 2\u001b[0m     lines\u001b[38;5;241m=\u001b[39mcsv\u001b[38;5;241m.\u001b[39mreader(\u001b[38;5;28;43mopen\u001b[39;49m\u001b[43m(\u001b[49m\u001b[43mfilename\u001b[49m\u001b[43m,\u001b[49m\u001b[38;5;124;43m\"\u001b[39;49m\u001b[38;5;124;43mr\u001b[39;49m\u001b[38;5;124;43m\"\u001b[39;49m\u001b[43m)\u001b[49m)\n\u001b[0;32m      3\u001b[0m     dataset \u001b[38;5;241m=\u001b[39m \u001b[38;5;28mlist\u001b[39m(lines) \n\u001b[0;32m      4\u001b[0m     headers \u001b[38;5;241m=\u001b[39m dataset\u001b[38;5;241m.\u001b[39mpop(\u001b[38;5;241m0\u001b[39m) \n",
      "File \u001b[1;32m~\\AppData\\Roaming\\Python\\Python312\\site-packages\\IPython\\core\\interactiveshell.py:324\u001b[0m, in \u001b[0;36m_modified_open\u001b[1;34m(file, *args, **kwargs)\u001b[0m\n\u001b[0;32m    317\u001b[0m \u001b[38;5;28;01mif\u001b[39;00m file \u001b[38;5;129;01min\u001b[39;00m {\u001b[38;5;241m0\u001b[39m, \u001b[38;5;241m1\u001b[39m, \u001b[38;5;241m2\u001b[39m}:\n\u001b[0;32m    318\u001b[0m     \u001b[38;5;28;01mraise\u001b[39;00m \u001b[38;5;167;01mValueError\u001b[39;00m(\n\u001b[0;32m    319\u001b[0m         \u001b[38;5;124mf\u001b[39m\u001b[38;5;124m\"\u001b[39m\u001b[38;5;124mIPython won\u001b[39m\u001b[38;5;124m'\u001b[39m\u001b[38;5;124mt let you open fd=\u001b[39m\u001b[38;5;132;01m{\u001b[39;00mfile\u001b[38;5;132;01m}\u001b[39;00m\u001b[38;5;124m by default \u001b[39m\u001b[38;5;124m\"\u001b[39m\n\u001b[0;32m    320\u001b[0m         \u001b[38;5;124m\"\u001b[39m\u001b[38;5;124mas it is likely to crash IPython. If you know what you are doing, \u001b[39m\u001b[38;5;124m\"\u001b[39m\n\u001b[0;32m    321\u001b[0m         \u001b[38;5;124m\"\u001b[39m\u001b[38;5;124myou can use builtins\u001b[39m\u001b[38;5;124m'\u001b[39m\u001b[38;5;124m open.\u001b[39m\u001b[38;5;124m\"\u001b[39m\n\u001b[0;32m    322\u001b[0m     )\n\u001b[1;32m--> 324\u001b[0m \u001b[38;5;28;01mreturn\u001b[39;00m \u001b[43mio_open\u001b[49m\u001b[43m(\u001b[49m\u001b[43mfile\u001b[49m\u001b[43m,\u001b[49m\u001b[43m \u001b[49m\u001b[38;5;241;43m*\u001b[39;49m\u001b[43margs\u001b[49m\u001b[43m,\u001b[49m\u001b[43m \u001b[49m\u001b[38;5;241;43m*\u001b[39;49m\u001b[38;5;241;43m*\u001b[39;49m\u001b[43mkwargs\u001b[49m\u001b[43m)\u001b[49m\n",
      "\u001b[1;31mFileNotFoundError\u001b[0m: [Errno 2] No such file or directory: 'id3_test_1.csv'"
     ]
    }
   ],
   "source": [
    "'''Main program''' \n",
    "dataset,features=load_csv(\"id3.csv\") \n",
    "node1=build_tree(dataset,features)\n",
    "\n",
    "print(\"The decision tree for the dataset using ID3 algorithm is\")\n",
    "print_tree(node1,0) \n",
    "testdata,features=load_csv(\"id3_test_1.csv\") \n",
    "for xtest in testdata:\n",
    "    print(\"The test instance:\",xtest)\n",
    "    print(\"The label for test instance:\",end=\" \") \n",
    "    classify(node1,xtest,features)"
   ]
  }
 ],
 "metadata": {
  "kernelspec": {
   "display_name": "Python 3",
   "language": "python",
   "name": "python3"
  },
  "language_info": {
   "codemirror_mode": {
    "name": "ipython",
    "version": 3
   },
   "file_extension": ".py",
   "mimetype": "text/x-python",
   "name": "python",
   "nbconvert_exporter": "python",
   "pygments_lexer": "ipython3",
   "version": "3.12.3"
  }
 },
 "nbformat": 4,
 "nbformat_minor": 4
}
